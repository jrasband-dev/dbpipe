{
 "cells": [
  {
   "cell_type": "markdown",
   "metadata": {},
   "source": [
    "# Creating a Pipe"
   ]
  },
  {
   "cell_type": "code",
   "execution_count": 2,
   "metadata": {},
   "outputs": [
    {
     "name": "stdout",
     "output_type": "stream",
     "text": [
      "{\n",
      "    \"sourceType\": \"MS SQL SERVER\",\n",
      "    \"sources\": [\n",
      "        \"AdSpend\",\n",
      "        \"Social Stats\"\n",
      "    ],\n",
      "    \"destinationType\": \"MS SQL SERVER\",\n",
      "    \"destination\": \"DW\",\n",
      "    \"frequency\": null,\n",
      "    \"logfile\": null,\n",
      "    \"filepath\": \"Test.py\",\n",
      "    \"schedule\": null\n",
      "}\n"
     ]
    }
   ],
   "source": [
    "from dbpipe.core.pipes import Pipe\n",
    "\n",
    "pipe = Pipe(\n",
    "        sourceType=\"MS SQL SERVER\",\n",
    "        sources=[\"AdSpend\",\"Social Stats\"],\n",
    "        destinationType=\"MS SQL SERVER\",\n",
    "        destination=\"DW\",\n",
    "        frequency=None,\n",
    "        logfile=None,\n",
    "        filepath=\"Test.py\"\n",
    "    )\n",
    "\n",
    "print(pipe)"
   ]
  },
  {
   "cell_type": "markdown",
   "metadata": {},
   "source": [
    "# Saving a Pipe"
   ]
  },
  {
   "cell_type": "code",
   "execution_count": 3,
   "metadata": {},
   "outputs": [],
   "source": [
    "pipe.save('DW.json')"
   ]
  },
  {
   "cell_type": "markdown",
   "metadata": {},
   "source": [
    "# Lineage"
   ]
  },
  {
   "cell_type": "code",
   "execution_count": 5,
   "metadata": {},
   "outputs": [],
   "source": [
    "from dbpipe.lineage.mermaid import generate_mermaid_markdown_file\n",
    "\n",
    "generate_mermaid_markdown_file('pipes','test.md')"
   ]
  },
  {
   "cell_type": "code",
   "execution_count": null,
   "metadata": {},
   "outputs": [],
   "source": []
  }
 ],
 "metadata": {
  "kernelspec": {
   "display_name": "Python 3",
   "language": "python",
   "name": "python3"
  },
  "language_info": {
   "codemirror_mode": {
    "name": "ipython",
    "version": 3
   },
   "file_extension": ".py",
   "mimetype": "text/x-python",
   "name": "python",
   "nbconvert_exporter": "python",
   "pygments_lexer": "ipython3",
   "version": "3.11.4"
  }
 },
 "nbformat": 4,
 "nbformat_minor": 2
}
