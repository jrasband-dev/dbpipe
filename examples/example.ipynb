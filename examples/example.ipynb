{
 "cells": [
  {
   "cell_type": "markdown",
   "metadata": {},
   "source": [
    "# Creating a Pipe"
   ]
  },
  {
   "cell_type": "code",
   "execution_count": 5,
   "metadata": {},
   "outputs": [
    {
     "name": "stdout",
     "output_type": "stream",
     "text": [
      "{\n",
      "    \"sourceType\": \"MS SQL SERVER\",\n",
      "    \"sources\": [\n",
      "        \"External.dbo.Test\",\n",
      "        \"External.dbo.Test2\"\n",
      "    ],\n",
      "    \"destinationType\": \"MS SQL SERVER\",\n",
      "    \"destination\": \"RAD.dbo.Test\",\n",
      "    \"frequency\": null,\n",
      "    \"logfile\": null,\n",
      "    \"filepath\": \"LogidatasetTest.lgx\"\n",
      "}\n"
     ]
    }
   ],
   "source": [
    "from dbpipe.core.pipes import Pipe\n",
    "\n",
    "pipe = Pipe(\n",
    "        sourceType=\"MS SQL SERVER\",\n",
    "        sources=[\"External.dbo.Test\", \"External.dbo.Test2\"],\n",
    "        destinationType=\"MS SQL SERVER\",\n",
    "        destination=\"RAD.dbo.Test\",\n",
    "        frequency=None,\n",
    "        logfile=None,\n",
    "        filepath=\"Test.py\"\n",
    "    )\n",
    "\n",
    "print(pipe)"
   ]
  },
  {
   "cell_type": "markdown",
   "metadata": {},
   "source": [
    "# Saving a Pipe"
   ]
  },
  {
   "cell_type": "code",
   "execution_count": 6,
   "metadata": {},
   "outputs": [],
   "source": [
    "pipe.save('pipeline.json')"
   ]
  },
  {
   "cell_type": "code",
   "execution_count": null,
   "metadata": {},
   "outputs": [],
   "source": []
  },
  {
   "cell_type": "code",
   "execution_count": null,
   "metadata": {},
   "outputs": [],
   "source": []
  }
 ],
 "metadata": {
  "kernelspec": {
   "display_name": "Python 3",
   "language": "python",
   "name": "python3"
  },
  "language_info": {
   "codemirror_mode": {
    "name": "ipython",
    "version": 3
   },
   "file_extension": ".py",
   "mimetype": "text/x-python",
   "name": "python",
   "nbconvert_exporter": "python",
   "pygments_lexer": "ipython3",
   "version": "3.11.4"
  }
 },
 "nbformat": 4,
 "nbformat_minor": 2
}
