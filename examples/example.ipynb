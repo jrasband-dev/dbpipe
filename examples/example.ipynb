{
 "cells": [
  {
   "cell_type": "markdown",
   "metadata": {},
   "source": [
    "# Creating a Schedule"
   ]
  },
  {
   "cell_type": "code",
   "execution_count": 1,
   "metadata": {},
   "outputs": [
    {
     "data": {
      "text/plain": [
       "{'frequency': 'Daily', 'start_time': '8:00AM', 'end_time': None, 'time_zone': 'UTC'}"
      ]
     },
     "execution_count": 1,
     "metadata": {},
     "output_type": "execute_result"
    }
   ],
   "source": [
    "from dbpipe.core.pipes import Schedule\n",
    "\n",
    "\n",
    "schedule = Schedule(frequency=\"Daily\", start_time=\"8:00AM\")\n",
    "\n",
    "schedule\n"
   ]
  },
  {
   "cell_type": "markdown",
   "metadata": {},
   "source": [
    "# Creating a Pipe"
   ]
  },
  {
   "cell_type": "code",
   "execution_count": 2,
   "metadata": {},
   "outputs": [
    {
     "name": "stdout",
     "output_type": "stream",
     "text": [
      "{\n",
      "    \"name\": \"DW\",\n",
      "    \"sources\": [\n",
      "        \"AdSpend\",\n",
      "        \"SocialStats\"\n",
      "    ],\n",
      "    \"destination\": \"DW\",\n",
      "    \"schedule\": null,\n",
      "    \"logfile\": null,\n",
      "    \"processfile\": \"Test.py\"\n",
      "}\n"
     ]
    }
   ],
   "source": [
    "from dbpipe.core.pipes import Pipe\n",
    "\n",
    "pipe = Pipe(\n",
    "        name='DW',\n",
    "        sources=[\"AdSpend\",\"SocialStats\"],\n",
    "        destination=\"DW\",\n",
    "        schedule=schedule,\n",
    "        processfile=\"Test.py\"\n",
    "    )\n",
    "\n",
    "print(pipe)"
   ]
  },
  {
   "cell_type": "markdown",
   "metadata": {},
   "source": [
    "# Saving a Pipe"
   ]
  },
  {
   "cell_type": "code",
   "execution_count": 5,
   "metadata": {},
   "outputs": [],
   "source": [
    "pipe.save('DW.json')"
   ]
  },
  {
   "cell_type": "markdown",
   "metadata": {},
   "source": [
    "# Lineage"
   ]
  },
  {
   "cell_type": "code",
   "execution_count": 6,
   "metadata": {},
   "outputs": [],
   "source": [
    "from dbpipe.lineage.mermaid import generate_mermaid_markdown_file\n",
    "\n",
    "generate_mermaid_markdown_file('pipes','test.md')"
   ]
  },
  {
   "cell_type": "code",
   "execution_count": null,
   "metadata": {},
   "outputs": [],
   "source": []
  },
  {
   "cell_type": "code",
   "execution_count": null,
   "metadata": {},
   "outputs": [],
   "source": []
  }
 ],
 "metadata": {
  "kernelspec": {
   "display_name": "Python 3",
   "language": "python",
   "name": "python3"
  },
  "language_info": {
   "codemirror_mode": {
    "name": "ipython",
    "version": 3
   },
   "file_extension": ".py",
   "mimetype": "text/x-python",
   "name": "python",
   "nbconvert_exporter": "python",
   "pygments_lexer": "ipython3",
   "version": "3.11.4"
  }
 },
 "nbformat": 4,
 "nbformat_minor": 2
}
