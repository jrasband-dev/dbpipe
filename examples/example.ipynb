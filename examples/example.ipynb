{
 "cells": [
  {
   "cell_type": "markdown",
   "metadata": {},
   "source": [
    "# dbpipe\n",
    "\n",
    "dbpipe is a lightweight and simple way to manage data pipelines. \n",
    "\n",
    "```mermaid\n",
    "graph LR\n",
    "A(Endpoints)-->B(Pipes)\n",
    "B-->C(Jobs)\n",
    "D(Schedules)-->C\n",
    "C-.->E(Clusters)\n",
    "\n",
    "```"
   ]
  },
  {
   "cell_type": "markdown",
   "metadata": {},
   "source": [
    "## Creating Endpoints"
   ]
  },
  {
   "cell_type": "code",
   "execution_count": 36,
   "metadata": {},
   "outputs": [
    {
     "data": {
      "text/plain": [
       "{'name': 'Facebook', 'type': 'API', 'location': 'https://facebook.com/Posts'}"
      ]
     },
     "execution_count": 36,
     "metadata": {},
     "output_type": "execute_result"
    }
   ],
   "source": [
    "from dbpipe import EndPoint\n",
    "\n",
    "\n",
    "facebook = EndPoint('Facebook','API','https://facebook.com/Posts')\n",
    "facebook"
   ]
  },
  {
   "cell_type": "code",
   "execution_count": 37,
   "metadata": {},
   "outputs": [],
   "source": [
    "facebook.save()"
   ]
  },
  {
   "cell_type": "code",
   "execution_count": 38,
   "metadata": {},
   "outputs": [
    {
     "data": {
      "text/plain": [
       "{'name': 'Instagram', 'type': 'API', 'location': 'https://instagram.com/Posts'}"
      ]
     },
     "execution_count": 38,
     "metadata": {},
     "output_type": "execute_result"
    }
   ],
   "source": [
    "instagram = EndPoint('Instagram','API','https://instagram.com/Posts')\n",
    "instagram"
   ]
  },
  {
   "cell_type": "code",
   "execution_count": 39,
   "metadata": {},
   "outputs": [],
   "source": [
    "instagram.save()"
   ]
  },
  {
   "cell_type": "code",
   "execution_count": 40,
   "metadata": {},
   "outputs": [
    {
     "data": {
      "text/plain": [
       "{'name': 'DW.Facebook.Posts', 'type': 'Database', 'location': 'ServerName'}"
      ]
     },
     "execution_count": 40,
     "metadata": {},
     "output_type": "execute_result"
    }
   ],
   "source": [
    "posttable = EndPoint('DW.Facebook.Posts','Database','ServerName')\n",
    "posttable"
   ]
  },
  {
   "cell_type": "code",
   "execution_count": 41,
   "metadata": {},
   "outputs": [],
   "source": [
    "posttable.save()"
   ]
  },
  {
   "cell_type": "markdown",
   "metadata": {},
   "source": [
    "## Creating a Pipe"
   ]
  },
  {
   "cell_type": "code",
   "execution_count": 42,
   "metadata": {},
   "outputs": [
    {
     "data": {
      "text/plain": [
       "{'name': 'DW', 'sources': [{'name': 'Facebook', 'type': 'API', 'location': 'https://facebook.com/Posts'}, {'name': 'Instagram', 'type': 'API', 'location': 'https://instagram.com/Posts'}], 'destination': {'name': 'DW.Facebook.Posts', 'type': 'Database', 'location': 'ServerName'}, 'logfile': None, 'processfile': 'Test.py'}"
      ]
     },
     "execution_count": 42,
     "metadata": {},
     "output_type": "execute_result"
    }
   ],
   "source": [
    "from dbpipe import Pipe\n",
    "\n",
    "\n",
    "pipe = Pipe(\n",
    "        name='DW',\n",
    "        sources=[facebook,instagram],\n",
    "        destination=posttable,\n",
    "        processfile=\"Test.py\"\n",
    "    )\n",
    "\n",
    "pipe"
   ]
  },
  {
   "cell_type": "code",
   "execution_count": 43,
   "metadata": {},
   "outputs": [
    {
     "data": {
      "text/plain": [
       "{'name': 'DW',\n",
       " 'sources': [{'name': 'Facebook',\n",
       "   'type': 'API',\n",
       "   'location': 'https://facebook.com/Posts'},\n",
       "  {'name': 'Instagram',\n",
       "   'type': 'API',\n",
       "   'location': 'https://instagram.com/Posts'}],\n",
       " 'destination': {'name': 'DW.Facebook.Posts',\n",
       "  'type': 'Database',\n",
       "  'location': 'ServerName'},\n",
       " 'logfile': None,\n",
       " 'processfile': 'Test.py'}"
      ]
     },
     "execution_count": 43,
     "metadata": {},
     "output_type": "execute_result"
    }
   ],
   "source": [
    "pipe.to_dict()"
   ]
  },
  {
   "cell_type": "code",
   "execution_count": 44,
   "metadata": {},
   "outputs": [],
   "source": [
    "pipe.save()"
   ]
  },
  {
   "cell_type": "markdown",
   "metadata": {},
   "source": [
    "## Creating a Schedule"
   ]
  },
  {
   "cell_type": "code",
   "execution_count": 45,
   "metadata": {},
   "outputs": [
    {
     "data": {
      "text/plain": [
       "{'frequency': 'Daily', 'start_time': '8:00AM', 'end_time': None, 'time_zone': 'UTC'}"
      ]
     },
     "execution_count": 45,
     "metadata": {},
     "output_type": "execute_result"
    }
   ],
   "source": [
    "from dbpipe import Schedule\n",
    "\n",
    "schedule = Schedule(frequency=\"Daily\", start_time=\"8:00AM\")\n",
    "\n",
    "schedule\n"
   ]
  },
  {
   "cell_type": "code",
   "execution_count": 46,
   "metadata": {},
   "outputs": [
    {
     "data": {
      "text/plain": [
       "{'frequency': 'Daily',\n",
       " 'start_time': '8:00AM',\n",
       " 'end_time': None,\n",
       " 'time_zone': 'UTC'}"
      ]
     },
     "execution_count": 46,
     "metadata": {},
     "output_type": "execute_result"
    }
   ],
   "source": [
    "schedule.to_dict()"
   ]
  },
  {
   "cell_type": "markdown",
   "metadata": {},
   "source": [
    "## Creating a Pipe Cluster"
   ]
  },
  {
   "cell_type": "code",
   "execution_count": 47,
   "metadata": {},
   "outputs": [
    {
     "data": {
      "text/plain": [
       "[{'name': 'DW', 'sources': [{'name': 'Facebook', 'type': 'API', 'location': 'https://facebook.com/Posts'}, {'name': 'Instagram', 'type': 'API', 'location': 'https://instagram.com/Posts'}], 'destination': {'name': 'DW.Facebook.Posts', 'type': 'Database', 'location': 'ServerName'}, 'logfile': None, 'processfile': 'Test.py'}, {'name': 'DW', 'sources': [{'name': 'Facebook', 'type': 'API', 'location': 'https://facebook.com/Posts'}, {'name': 'Instagram', 'type': 'API', 'location': 'https://instagram.com/Posts'}], 'destination': {'name': 'DW.Facebook.Posts', 'type': 'Database', 'location': 'ServerName'}, 'logfile': None, 'processfile': 'Test.py'}]"
      ]
     },
     "execution_count": 47,
     "metadata": {},
     "output_type": "execute_result"
    }
   ],
   "source": [
    "from dbpipe.core.pipes import Cluster\n",
    "\n",
    "\n",
    "clstr = Cluster([pipe,pipe])\n",
    "clstr"
   ]
  },
  {
   "cell_type": "markdown",
   "metadata": {},
   "source": [
    "## Creating a Job"
   ]
  },
  {
   "cell_type": "code",
   "execution_count": 48,
   "metadata": {},
   "outputs": [
    {
     "data": {
      "text/plain": [
       "{'name': 'My Job', 'schedule': {'frequency': 'Daily', 'start_time': '8:00AM', 'end_time': None, 'time_zone': 'UTC'}, 'jobs': [{'name': 'DW', 'sources': [{'name': 'Facebook', 'type': 'API', 'location': 'https://facebook.com/Posts'}, {'name': 'Instagram', 'type': 'API', 'location': 'https://instagram.com/Posts'}], 'destination': {'name': 'DW.Facebook.Posts', 'type': 'Database', 'location': 'ServerName'}, 'logfile': None, 'processfile': 'Test.py'}, {'name': 'DW', 'sources': [{'name': 'Facebook', 'type': 'API', 'location': 'https://facebook.com/Posts'}, {'name': 'Instagram', 'type': 'API', 'location': 'https://instagram.com/Posts'}], 'destination': {'name': 'DW.Facebook.Posts', 'type': 'Database', 'location': 'ServerName'}, 'logfile': None, 'processfile': 'Test.py'}]}"
      ]
     },
     "execution_count": 48,
     "metadata": {},
     "output_type": "execute_result"
    }
   ],
   "source": [
    "from dbpipe import Job\n",
    "\n",
    "\n",
    "job = Job('My Job',schedule=schedule,jobs=clstr)\n",
    "job"
   ]
  },
  {
   "cell_type": "code",
   "execution_count": 49,
   "metadata": {},
   "outputs": [],
   "source": [
    "job.save()"
   ]
  },
  {
   "cell_type": "markdown",
   "metadata": {},
   "source": [
    "## Reading a Pipe"
   ]
  },
  {
   "cell_type": "code",
   "execution_count": 50,
   "metadata": {},
   "outputs": [
    {
     "data": {
      "text/plain": [
       "{'name': 'DW', 'sources': [{'name': 'Facebook', 'type': 'API', 'location': 'https://facebook.com/Posts'}, {'name': 'Instagram', 'type': 'API', 'location': 'https://instagram.com/Posts'}], 'destination': {'name': 'DW.Facebook.Posts', 'type': 'Database', 'location': 'ServerName'}, 'logfile': None, 'processfile': 'Test.py'}"
      ]
     },
     "execution_count": 50,
     "metadata": {},
     "output_type": "execute_result"
    }
   ],
   "source": [
    "from dbpipe import read_pipe\n",
    "\n",
    "\n",
    "pipe = read_pipe('pipes/DW.json')\n",
    "pipe"
   ]
  },
  {
   "cell_type": "code",
   "execution_count": 51,
   "metadata": {},
   "outputs": [
    {
     "data": {
      "text/plain": [
       "{'name': 'DW',\n",
       " 'sources': [{'name': 'Facebook',\n",
       "   'type': 'API',\n",
       "   'location': 'https://facebook.com/Posts'},\n",
       "  {'name': 'Instagram',\n",
       "   'type': 'API',\n",
       "   'location': 'https://instagram.com/Posts'}],\n",
       " 'destination': {'name': 'DW.Facebook.Posts',\n",
       "  'type': 'Database',\n",
       "  'location': 'ServerName'},\n",
       " 'logfile': None,\n",
       " 'processfile': 'Test.py'}"
      ]
     },
     "execution_count": 51,
     "metadata": {},
     "output_type": "execute_result"
    }
   ],
   "source": [
    "pipe.to_dict()"
   ]
  },
  {
   "cell_type": "markdown",
   "metadata": {},
   "source": [
    "## Reading a Job"
   ]
  },
  {
   "cell_type": "code",
   "execution_count": 52,
   "metadata": {},
   "outputs": [
    {
     "data": {
      "text/plain": [
       "{'name': 'My Job', 'schedule': {'frequency': 'Daily', 'start_time': '8:00AM', 'end_time': None, 'time_zone': 'UTC'}, 'jobs': [{'name': 'DW', 'sources': [{'name': 'Facebook', 'type': 'API', 'location': 'https://facebook.com/Posts'}, {'name': 'Instagram', 'type': 'API', 'location': 'https://instagram.com/Posts'}], 'destination': {'name': 'DW.Facebook.Posts', 'type': 'Database', 'location': 'ServerName'}, 'logfile': None, 'processfile': 'Test.py'}, {'name': 'DW', 'sources': [{'name': 'Facebook', 'type': 'API', 'location': 'https://facebook.com/Posts'}, {'name': 'Instagram', 'type': 'API', 'location': 'https://instagram.com/Posts'}], 'destination': {'name': 'DW.Facebook.Posts', 'type': 'Database', 'location': 'ServerName'}, 'logfile': None, 'processfile': 'Test.py'}]}"
      ]
     },
     "execution_count": 52,
     "metadata": {},
     "output_type": "execute_result"
    }
   ],
   "source": [
    "from dbpipe import read_job\n",
    "\n",
    "job = read_job('jobs/My Job.json')\n",
    "job"
   ]
  },
  {
   "cell_type": "code",
   "execution_count": 53,
   "metadata": {},
   "outputs": [
    {
     "data": {
      "text/plain": [
       "{'name': 'My Job',\n",
       " 'schedule': {'frequency': 'Daily',\n",
       "  'start_time': '8:00AM',\n",
       "  'end_time': None,\n",
       "  'time_zone': 'UTC'},\n",
       " 'jobs': [{'name': 'DW',\n",
       "   'sources': [{'name': 'Facebook',\n",
       "     'type': 'API',\n",
       "     'location': 'https://facebook.com/Posts'},\n",
       "    {'name': 'Instagram',\n",
       "     'type': 'API',\n",
       "     'location': 'https://instagram.com/Posts'}],\n",
       "   'destination': {'name': 'DW.Facebook.Posts',\n",
       "    'type': 'Database',\n",
       "    'location': 'ServerName'},\n",
       "   'logfile': None,\n",
       "   'processfile': 'Test.py'},\n",
       "  {'name': 'DW',\n",
       "   'sources': [{'name': 'Facebook',\n",
       "     'type': 'API',\n",
       "     'location': 'https://facebook.com/Posts'},\n",
       "    {'name': 'Instagram',\n",
       "     'type': 'API',\n",
       "     'location': 'https://instagram.com/Posts'}],\n",
       "   'destination': {'name': 'DW.Facebook.Posts',\n",
       "    'type': 'Database',\n",
       "    'location': 'ServerName'},\n",
       "   'logfile': None,\n",
       "   'processfile': 'Test.py'}]}"
      ]
     },
     "execution_count": 53,
     "metadata": {},
     "output_type": "execute_result"
    }
   ],
   "source": [
    "job.to_dict()"
   ]
  },
  {
   "cell_type": "markdown",
   "metadata": {},
   "source": [
    "## Lineage"
   ]
  },
  {
   "cell_type": "code",
   "execution_count": 54,
   "metadata": {},
   "outputs": [],
   "source": [
    "from dbpipe.lineage.mermaid import generate_mermaid_markdown_file\n",
    "\n",
    "\n",
    "generate_mermaid_markdown_file('pipes','test.md')"
   ]
  }
 ],
 "metadata": {
  "kernelspec": {
   "display_name": "Python 3",
   "language": "python",
   "name": "python3"
  },
  "language_info": {
   "codemirror_mode": {
    "name": "ipython",
    "version": 3
   },
   "file_extension": ".py",
   "mimetype": "text/x-python",
   "name": "python",
   "nbconvert_exporter": "python",
   "pygments_lexer": "ipython3",
   "version": "3.11.4"
  }
 },
 "nbformat": 4,
 "nbformat_minor": 2
}
